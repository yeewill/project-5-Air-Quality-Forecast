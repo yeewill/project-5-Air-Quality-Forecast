{
 "cells": [
  {
   "cell_type": "code",
   "execution_count": 9,
   "metadata": {},
   "outputs": [],
   "source": [
    "import pickle\n",
    "import pandas as pd\n",
    "import requests\n",
    "import time\n",
    "import json"
   ]
  },
  {
   "cell_type": "code",
   "execution_count": 10,
   "metadata": {},
   "outputs": [
    {
     "data": {
      "text/html": [
       "<div>\n",
       "<style scoped>\n",
       "    .dataframe tbody tr th:only-of-type {\n",
       "        vertical-align: middle;\n",
       "    }\n",
       "\n",
       "    .dataframe tbody tr th {\n",
       "        vertical-align: top;\n",
       "    }\n",
       "\n",
       "    .dataframe thead th {\n",
       "        text-align: right;\n",
       "    }\n",
       "</style>\n",
       "<table border=\"1\" class=\"dataframe\">\n",
       "  <thead>\n",
       "    <tr style=\"text-align: right;\">\n",
       "      <th></th>\n",
       "      <th>Date</th>\n",
       "      <th>Source</th>\n",
       "      <th>Site ID</th>\n",
       "      <th>POC</th>\n",
       "      <th>Daily Max 1-hour NO2 Concentration</th>\n",
       "      <th>UNITS</th>\n",
       "      <th>DAILY_AQI_VALUE</th>\n",
       "      <th>Site Name</th>\n",
       "      <th>DAILY_OBS_COUNT</th>\n",
       "      <th>PERCENT_COMPLETE</th>\n",
       "      <th>AQS_PARAMETER_CODE</th>\n",
       "      <th>AQS_PARAMETER_DESC</th>\n",
       "      <th>CBSA_CODE</th>\n",
       "      <th>CBSA_NAME</th>\n",
       "      <th>STATE_CODE</th>\n",
       "      <th>STATE</th>\n",
       "      <th>COUNTY_CODE</th>\n",
       "      <th>COUNTY</th>\n",
       "      <th>SITE_LATITUDE</th>\n",
       "      <th>SITE_LONGITUDE</th>\n",
       "    </tr>\n",
       "  </thead>\n",
       "  <tbody>\n",
       "    <tr>\n",
       "      <th>15</th>\n",
       "      <td>2018-01-16</td>\n",
       "      <td>AQS</td>\n",
       "      <td>60131004</td>\n",
       "      <td>1</td>\n",
       "      <td>19.0</td>\n",
       "      <td>ppb</td>\n",
       "      <td>18</td>\n",
       "      <td>San Pablo</td>\n",
       "      <td>23</td>\n",
       "      <td>96.0</td>\n",
       "      <td>42602</td>\n",
       "      <td>Nitrogen dioxide (NO2)</td>\n",
       "      <td>41860</td>\n",
       "      <td>San Francisco-Oakland-Hayward, CA</td>\n",
       "      <td>6</td>\n",
       "      <td>California</td>\n",
       "      <td>13</td>\n",
       "      <td>Contra Costa</td>\n",
       "      <td>37.9604</td>\n",
       "      <td>-122.356811</td>\n",
       "    </tr>\n",
       "    <tr>\n",
       "      <th>36</th>\n",
       "      <td>2018-02-07</td>\n",
       "      <td>AQS</td>\n",
       "      <td>60131004</td>\n",
       "      <td>1</td>\n",
       "      <td>31.7</td>\n",
       "      <td>ppb</td>\n",
       "      <td>29</td>\n",
       "      <td>San Pablo</td>\n",
       "      <td>23</td>\n",
       "      <td>96.0</td>\n",
       "      <td>42602</td>\n",
       "      <td>Nitrogen dioxide (NO2)</td>\n",
       "      <td>41860</td>\n",
       "      <td>San Francisco-Oakland-Hayward, CA</td>\n",
       "      <td>6</td>\n",
       "      <td>California</td>\n",
       "      <td>13</td>\n",
       "      <td>Contra Costa</td>\n",
       "      <td>37.9604</td>\n",
       "      <td>-122.356811</td>\n",
       "    </tr>\n",
       "    <tr>\n",
       "      <th>190</th>\n",
       "      <td>2018-07-12</td>\n",
       "      <td>AQS</td>\n",
       "      <td>60131004</td>\n",
       "      <td>1</td>\n",
       "      <td>8.3</td>\n",
       "      <td>ppb</td>\n",
       "      <td>8</td>\n",
       "      <td>San Pablo</td>\n",
       "      <td>23</td>\n",
       "      <td>96.0</td>\n",
       "      <td>42602</td>\n",
       "      <td>Nitrogen dioxide (NO2)</td>\n",
       "      <td>41860</td>\n",
       "      <td>San Francisco-Oakland-Hayward, CA</td>\n",
       "      <td>6</td>\n",
       "      <td>California</td>\n",
       "      <td>13</td>\n",
       "      <td>Contra Costa</td>\n",
       "      <td>37.9604</td>\n",
       "      <td>-122.356811</td>\n",
       "    </tr>\n",
       "    <tr>\n",
       "      <th>266</th>\n",
       "      <td>2018-09-26</td>\n",
       "      <td>AQS</td>\n",
       "      <td>60131004</td>\n",
       "      <td>1</td>\n",
       "      <td>11.6</td>\n",
       "      <td>ppb</td>\n",
       "      <td>10</td>\n",
       "      <td>San Pablo</td>\n",
       "      <td>20</td>\n",
       "      <td>83.0</td>\n",
       "      <td>42602</td>\n",
       "      <td>Nitrogen dioxide (NO2)</td>\n",
       "      <td>41860</td>\n",
       "      <td>San Francisco-Oakland-Hayward, CA</td>\n",
       "      <td>6</td>\n",
       "      <td>California</td>\n",
       "      <td>13</td>\n",
       "      <td>Contra Costa</td>\n",
       "      <td>37.9604</td>\n",
       "      <td>-122.356811</td>\n",
       "    </tr>\n",
       "    <tr>\n",
       "      <th>259</th>\n",
       "      <td>2018-09-19</td>\n",
       "      <td>AQS</td>\n",
       "      <td>60131004</td>\n",
       "      <td>1</td>\n",
       "      <td>14.7</td>\n",
       "      <td>ppb</td>\n",
       "      <td>13</td>\n",
       "      <td>San Pablo</td>\n",
       "      <td>23</td>\n",
       "      <td>96.0</td>\n",
       "      <td>42602</td>\n",
       "      <td>Nitrogen dioxide (NO2)</td>\n",
       "      <td>41860</td>\n",
       "      <td>San Francisco-Oakland-Hayward, CA</td>\n",
       "      <td>6</td>\n",
       "      <td>California</td>\n",
       "      <td>13</td>\n",
       "      <td>Contra Costa</td>\n",
       "      <td>37.9604</td>\n",
       "      <td>-122.356811</td>\n",
       "    </tr>\n",
       "  </tbody>\n",
       "</table>\n",
       "</div>"
      ],
      "text/plain": [
       "          Date Source   Site ID  POC  Daily Max 1-hour NO2 Concentration  \\\n",
       "15  2018-01-16    AQS  60131004    1                                19.0   \n",
       "36  2018-02-07    AQS  60131004    1                                31.7   \n",
       "190 2018-07-12    AQS  60131004    1                                 8.3   \n",
       "266 2018-09-26    AQS  60131004    1                                11.6   \n",
       "259 2018-09-19    AQS  60131004    1                                14.7   \n",
       "\n",
       "    UNITS  DAILY_AQI_VALUE  Site Name  DAILY_OBS_COUNT  PERCENT_COMPLETE  \\\n",
       "15    ppb               18  San Pablo               23              96.0   \n",
       "36    ppb               29  San Pablo               23              96.0   \n",
       "190   ppb                8  San Pablo               23              96.0   \n",
       "266   ppb               10  San Pablo               20              83.0   \n",
       "259   ppb               13  San Pablo               23              96.0   \n",
       "\n",
       "     AQS_PARAMETER_CODE      AQS_PARAMETER_DESC  CBSA_CODE  \\\n",
       "15                42602  Nitrogen dioxide (NO2)      41860   \n",
       "36                42602  Nitrogen dioxide (NO2)      41860   \n",
       "190               42602  Nitrogen dioxide (NO2)      41860   \n",
       "266               42602  Nitrogen dioxide (NO2)      41860   \n",
       "259               42602  Nitrogen dioxide (NO2)      41860   \n",
       "\n",
       "                             CBSA_NAME  STATE_CODE       STATE  COUNTY_CODE  \\\n",
       "15   San Francisco-Oakland-Hayward, CA           6  California           13   \n",
       "36   San Francisco-Oakland-Hayward, CA           6  California           13   \n",
       "190  San Francisco-Oakland-Hayward, CA           6  California           13   \n",
       "266  San Francisco-Oakland-Hayward, CA           6  California           13   \n",
       "259  San Francisco-Oakland-Hayward, CA           6  California           13   \n",
       "\n",
       "           COUNTY  SITE_LATITUDE  SITE_LONGITUDE  \n",
       "15   Contra Costa        37.9604     -122.356811  \n",
       "36   Contra Costa        37.9604     -122.356811  \n",
       "190  Contra Costa        37.9604     -122.356811  \n",
       "266  Contra Costa        37.9604     -122.356811  \n",
       "259  Contra Costa        37.9604     -122.356811  "
      ]
     },
     "execution_count": 10,
     "metadata": {},
     "output_type": "execute_result"
    }
   ],
   "source": [
    "dskey = pickle.load(open(\"darkskyapi.p\",'rb'))\n",
    "open(\"darkskyapi.p\",'rb').close\n",
    "\n",
    "date_vars = ['Date']\n",
    "\n",
    "\n",
    "air_df = pd.read_csv('SampleAir.csv',parse_dates=date_vars, date_parser=pd.to_datetime)\n",
    "\n",
    "air_df.sample(5)"
   ]
  },
  {
   "cell_type": "code",
   "execution_count": 11,
   "metadata": {},
   "outputs": [],
   "source": [
    "long = air_df.iloc[299,-1]\n",
    "\n",
    "lat =air_df.iloc[299,-2]\n",
    "\n",
    "day = air_df.iloc[298,0]\n",
    "#day = pd.to_datetime(day , format ='%m/%d/%Y')\n",
    "\n",
    "day = int(time.mktime(day.timetuple()))"
   ]
  },
  {
   "cell_type": "code",
   "execution_count": 12,
   "metadata": {},
   "outputs": [],
   "source": [
    "url ='https://api.darksky.net/forecast/'+dskey+'/'+str(lat)+','+str(long)+','+str(day)"
   ]
  },
  {
   "cell_type": "code",
   "execution_count": 13,
   "metadata": {},
   "outputs": [],
   "source": [
    "weather= requests.get(url)\n"
   ]
  },
  {
   "cell_type": "code",
   "execution_count": 14,
   "metadata": {},
   "outputs": [
    {
     "data": {
      "text/plain": [
       "{'time': 1540796400,\n",
       " 'summary': 'Clear throughout the day.',\n",
       " 'icon': 'clear-day',\n",
       " 'sunriseTime': 1540823608,\n",
       " 'sunsetTime': 1540862108,\n",
       " 'moonPhase': 0.68,\n",
       " 'precipIntensity': 0,\n",
       " 'precipIntensityMax': 0,\n",
       " 'precipProbability': 0,\n",
       " 'dewPoint': 43.5,\n",
       " 'humidity': 0.56,\n",
       " 'pressure': 1021.22,\n",
       " 'windSpeed': 3.9,\n",
       " 'windGust': 12.43,\n",
       " 'windGustTime': 1540803600,\n",
       " 'windBearing': 309,\n",
       " 'cloudCover': 0.02,\n",
       " 'uvIndex': 3,\n",
       " 'uvIndexTime': 1540836000,\n",
       " 'visibility': 10,\n",
       " 'temperatureMin': 56.4,\n",
       " 'temperatureMinTime': 1540821600,\n",
       " 'temperatureMax': 68.55,\n",
       " 'temperatureMaxTime': 1540854000,\n",
       " 'apparentTemperatureMin': 56.4,\n",
       " 'apparentTemperatureMinTime': 1540821600,\n",
       " 'apparentTemperatureMax': 68.55,\n",
       " 'apparentTemperatureMaxTime': 1540854000}"
      ]
     },
     "execution_count": 14,
     "metadata": {},
     "output_type": "execute_result"
    }
   ],
   "source": [
    "weather.json()['daily']['data'][0]"
   ]
  },
  {
   "cell_type": "code",
   "execution_count": null,
   "metadata": {},
   "outputs": [],
   "source": []
  },
  {
   "cell_type": "code",
   "execution_count": null,
   "metadata": {},
   "outputs": [],
   "source": []
  },
  {
   "cell_type": "code",
   "execution_count": null,
   "metadata": {},
   "outputs": [],
   "source": [
    "# day_length =[]\n",
    "# temp_high =[]\n",
    "# temp_low =[]\n",
    "# dew_point =[]\n",
    "# humidity =[]\n",
    "# pressure =[]\n",
    "# wind_speed =[]\n",
    "# wind_bearing =[]\n",
    "# cloud_cover =[]\n",
    "# uv_index =[]\n",
    "\n",
    "# for i in range(air_df.shape[0]):\n",
    "#     try:\n",
    "#         long = air_df.iloc[i,-1]\n",
    "#         lat =air_df.iloc[i,-2]\n",
    "#         day = air_df.iloc[i,0]\n",
    "#         day = pd.to_datetime(day , format ='%m/%d/%Y')\n",
    "#         day = int(time.mktime(day.timetuple()))\n",
    "#         url ='https://api.darksky.net/forecast/'+dskey+'/'+str(lat)+','+str(long)+','+str(day)\n",
    "#         weather= requests.get(url)\n",
    "#         day_length.append(weather.json()['daily']['data'][0]['sunsetTime'] - weather.json()['daily']['data'][0]['sunriseTime'])\n",
    "#         try:\n",
    "#             temp_high.append(weather.json()['daily']['data'][0]['temperatureHigh'])\n",
    "#         except:\n",
    "#             temp_high.append(weather.json()['daily']['data'][0]['temperatureMax'])\n",
    "#         try:\n",
    "#             temp_low.append(weather.json()['daily']['data'][0]['temperatureLow'])\n",
    "#         except:\n",
    "#             temp_low.append(weather.json()['daily']['data'][0]['temperatureMin'])\n",
    "#         dew_point.append(weather.json()['daily']['data'][0]['dewPoint'])\n",
    "#         humidity.append(weather.json()['daily']['data'][0]['humidity'])\n",
    "#         pressure.append(weather.json()['daily']['data'][0]['pressure'])\n",
    "#         wind_speed.append(weather.json()['daily']['data'][0]['windSpeed'])\n",
    "#         wind_bearing.append(weather.json()['daily']['data'][0]['windBearing'])\n",
    "#         cloud_cover.append(weather.json()['daily']['data'][0]['cloudCover'])\n",
    "#         uv_index.append(weather.json()['daily']['data'][0]['uvIndex'])\n",
    "#     except:\n",
    "#         print('broken at: ' +str(i))\n",
    "\n",
    "    "
   ]
  },
  {
   "cell_type": "code",
   "execution_count": null,
   "metadata": {},
   "outputs": [],
   "source": [
    "# air_df['day_length'] = day_length\n",
    "# air_df['temp_high'] = temp_high\n",
    "# air_df['temp_low'] = temp_low\n",
    "# air_df['dew_point'] = dew_point\n",
    "# air_df['humidity'] = humidity\n",
    "# air_df['pressure'] = pressure\n",
    "# air_df['wind_speed'] = wind_speed\n",
    "# air_df['wind_bearing'] = wind_bearing\n",
    "# air_df['cloud_cover'] = cloud_cover\n",
    "# air_df['uv_index'] = uv_index"
   ]
  },
  {
   "cell_type": "code",
   "execution_count": null,
   "metadata": {},
   "outputs": [],
   "source": [
    "# pickle.dump(air_df, open('air_df_1.p','wb'))"
   ]
  },
  {
   "cell_type": "code",
   "execution_count": 16,
   "metadata": {},
   "outputs": [
    {
     "data": {
      "text/plain": [
       "<function BufferedReader.close>"
      ]
     },
     "execution_count": 16,
     "metadata": {},
     "output_type": "execute_result"
    }
   ],
   "source": [
    "air_df = pickle.load(open(\"air_df_1.p\",'rb'))\n",
    "open('air_df_1.p','rb').close"
   ]
  },
  {
   "cell_type": "code",
   "execution_count": 17,
   "metadata": {},
   "outputs": [
    {
     "data": {
      "text/plain": [
       "Index(['Date', 'Source', 'Site ID', 'POC',\n",
       "       'Daily Max 1-hour NO2 Concentration', 'UNITS', 'DAILY_AQI_VALUE',\n",
       "       'Site Name', 'DAILY_OBS_COUNT', 'PERCENT_COMPLETE',\n",
       "       'AQS_PARAMETER_CODE', 'AQS_PARAMETER_DESC', 'CBSA_CODE', 'CBSA_NAME',\n",
       "       'STATE_CODE', 'STATE', 'COUNTY_CODE', 'COUNTY', 'SITE_LATITUDE',\n",
       "       'SITE_LONGITUDE', 'day_length', 'temp_high', 'temp_low', 'dew_point',\n",
       "       'humidity', 'pressure', 'wind_speed', 'wind_bearing', 'cloud_cover',\n",
       "       'uv_index'],\n",
       "      dtype='object')"
      ]
     },
     "execution_count": 17,
     "metadata": {},
     "output_type": "execute_result"
    }
   ],
   "source": [
    "air_df.columns"
   ]
  },
  {
   "cell_type": "code",
   "execution_count": 18,
   "metadata": {},
   "outputs": [],
   "source": [
    "df =air_df[['Date','Daily Max 1-hour NO2 Concentration']]"
   ]
  },
  {
   "cell_type": "code",
   "execution_count": 19,
   "metadata": {},
   "outputs": [],
   "source": [
    "df.set_index('Date',inplace=True)"
   ]
  },
  {
   "cell_type": "code",
   "execution_count": null,
   "metadata": {},
   "outputs": [],
   "source": []
  },
  {
   "cell_type": "code",
   "execution_count": 20,
   "metadata": {},
   "outputs": [
    {
     "name": "stderr",
     "output_type": "stream",
     "text": [
      "Using TensorFlow backend.\n"
     ]
    }
   ],
   "source": [
    "from pathlib import Path\n",
    "import pandas as pd\n",
    "import numpy as np\n",
    "import pandas_profiling\n",
    "%matplotlib inline\n",
    "import matplotlib.pyplot as plt\n",
    "import warnings\n",
    "warnings.simplefilter(action = 'ignore', category = FutureWarning)\n",
    "from sklearn.preprocessing import MinMaxScaler\n",
    "\n",
    "from keras.preprocessing.sequence import TimeseriesGenerator\n",
    "from keras.models import Sequential\n",
    "from keras.layers import Dense, LSTM, SimpleRNN\n",
    "from keras.optimizers import RMSprop\n",
    "from keras.callbacks import ModelCheckpoint, EarlyStopping\n",
    "from keras.models import model_from_json"
   ]
  },
  {
   "cell_type": "code",
   "execution_count": 21,
   "metadata": {},
   "outputs": [],
   "source": [
    "train = df.query('Date < \"2018-07-01\"')\n",
    "valid = df.query('Date >= \"2018-07-01\" and Date < \"2018-11-01\"')\n",
    "test = df.query('Date >= \"2018-11-02\"')"
   ]
  },
  {
   "cell_type": "code",
   "execution_count": 22,
   "metadata": {},
   "outputs": [],
   "source": [
    "# Save column names and indices to use when storing as csv\n",
    "cols = train.columns\n",
    "train_idx = train.index\n",
    "valid_idx = valid.index\n",
    "test_idx = test.index\n",
    "\n",
    "# normalize the dataset\n",
    "scaler = MinMaxScaler(feature_range=(0, 1))\n",
    "train = scaler.fit_transform(train)\n",
    "valid = scaler.transform(valid)\n",
    "test = scaler.transform(test)"
   ]
  },
  {
   "cell_type": "code",
   "execution_count": 23,
   "metadata": {},
   "outputs": [],
   "source": [
    "def plot_loss(history, title):\n",
    "    plt.figure(figsize=(10,6))\n",
    "    plt.plot(history.history['loss'], label='Train')\n",
    "    plt.plot(history.history['val_loss'], label='Validation')\n",
    "    plt.title(title)\n",
    "    plt.xlabel('Nb Epochs')\n",
    "    plt.ylabel('Loss')\n",
    "    plt.legend()\n",
    "    plt.show()\n",
    "    \n",
    "    val_loss = history.history['val_loss']\n",
    "    min_idx = np.argmin(val_loss)\n",
    "    min_val_loss = val_loss[min_idx]\n",
    "    print('Minimum validation loss of {} reached at epoch {}'.format(min_val_loss, min_idx))"
   ]
  },
  {
   "cell_type": "code",
   "execution_count": 24,
   "metadata": {},
   "outputs": [],
   "source": [
    "n_lag = 14\n",
    "\n",
    "train_data_gen = TimeseriesGenerator(train, train, length=n_lag, sampling_rate=1, stride=1, batch_size = 5)\n",
    "valid_data_gen = TimeseriesGenerator(train, train, length=n_lag, sampling_rate=1, stride=1, batch_size = 1)\n",
    "test_data_gen = TimeseriesGenerator(test, test, length=n_lag, sampling_rate=1, stride=1, batch_size = 1)"
   ]
  },
  {
   "cell_type": "code",
   "execution_count": 29,
   "metadata": {},
   "outputs": [
    {
     "data": {
      "image/png": "[encoded data removed]",
      "text/plain": [
       "<Figure size 720x432 with 1 Axes>"
      ]
     },
     "metadata": {
      "needs_background": "light"
     },
     "output_type": "display_data"
    },
    {
     "name": "stdout",
     "output_type": "stream",
     "text": [
      "Minimum validation loss of 0.10183886488278707 reached at epoch 69\n"
     ]
    }
   ],
   "source": [
    "simple_rnn = Sequential()\n",
    "simple_rnn.add(SimpleRNN(5, input_shape=(n_lag, 1)))\n",
    "simple_rnn.add(Dense(1))\n",
    "simple_rnn.compile(loss='mae', optimizer=RMSprop())\n",
    "\n",
    "checkpointer = ModelCheckpoint(filepath='simple_rnn_weights.hdf5'\n",
    "                               , verbose=0\n",
    "                               , save_best_only=True)\n",
    "earlystopper = EarlyStopping(monitor='val_loss'\n",
    "                             , patience=10\n",
    "                             , verbose=0)\n",
    "with open(\"simple_rnn.json\", \"w\") as m:\n",
    "     m.write(simple_rnn.to_json())\n",
    "\n",
    "simple_rnn_history = simple_rnn.fit_generator(train_data_gen\n",
    "                                              , epochs=100\n",
    "                                              , validation_data=valid_data_gen\n",
    "                                              , verbose=0\n",
    "                                              , callbacks= [earlystopper])\n",
    "plot_loss(simple_rnn_history, 'SimpleRNN - Train & Validation Loss')"
   ]
  },
  {
   "cell_type": "code",
   "execution_count": 30,
   "metadata": {},
   "outputs": [
    {
     "data": {
      "image/png": "[encoded data removed]",
      "text/plain": [
       "<Figure size 720x432 with 1 Axes>"
      ]
     },
     "metadata": {
      "needs_background": "light"
     },
     "output_type": "display_data"
    },
    {
     "name": "stdout",
     "output_type": "stream",
     "text": [
      "Minimum validation loss of 0.1048379123210907 reached at epoch 26\n"
     ]
    }
   ],
   "source": [
    "simple_lstm = Sequential()\n",
    "simple_lstm.add(LSTM(5, input_shape=(n_lag, 1)))\n",
    "simple_lstm.add(Dense(1))\n",
    "simple_lstm.compile(loss='mae', optimizer=RMSprop())\n",
    "\n",
    "checkpointer = ModelCheckpoint(filepath='simple_lstm_weights.hdf5'\n",
    "                               , verbose=0\n",
    "                               , save_best_only=True)\n",
    "earlystopper = EarlyStopping(monitor='val_loss'\n",
    "                             , patience=10\n",
    "                             , verbose=0)\n",
    "with open(\"simple_lstm.json\", \"w\") as m:\n",
    "    m.write(simple_lstm.to_json())\n",
    "\n",
    "simple_lstm_history = simple_lstm.fit_generator(train_data_gen\n",
    "                                                , epochs=100\n",
    "                                                , validation_data=valid_data_gen\n",
    "                                                , verbose=0\n",
    "                                                , callbacks=[checkpointer, earlystopper])\n",
    "plot_loss(simple_lstm_history, 'Simple LSTM - Train & Validation Loss')"
   ]
  },
  {
   "cell_type": "code",
   "execution_count": 32,
   "metadata": {},
   "outputs": [
    {
     "data": {
      "image/png": "[encoded data removed]",
      "text/plain": [
       "<Figure size 720x432 with 1 Axes>"
      ]
     },
     "metadata": {
      "needs_background": "light"
     },
     "output_type": "display_data"
    },
    {
     "name": "stdout",
     "output_type": "stream",
     "text": [
      "Minimum validation loss of 0.10461300304441741 reached at epoch 36\n"
     ]
    }
   ],
   "source": [
    "stacked_lstm = Sequential()\n",
    "stacked_lstm.add(LSTM(16, input_shape=(n_lag, 1), return_sequences=True))\n",
    "stacked_lstm.add(LSTM(8, return_sequences=True))\n",
    "stacked_lstm.add(LSTM(4))\n",
    "stacked_lstm.add(Dense(1))\n",
    "stacked_lstm.compile(loss='mae', optimizer=RMSprop())\n",
    "\n",
    "checkpointer = ModelCheckpoint(filepath='stacked_lstm_weights.hdf5'\n",
    "                               , verbose=0\n",
    "                               , save_best_only=True)\n",
    "earlystopper = EarlyStopping(monitor='val_loss'\n",
    "                             , patience=10\n",
    "                             , verbose=0)\n",
    "with open(\"stacked_lstm.json\", \"w\") as m:\n",
    "    m.write(stacked_lstm.to_json())\n",
    "\n",
    "stacked_lstm_history = stacked_lstm.fit_generator(train_data_gen\n",
    "                                                  , epochs=100\n",
    "                                                  , validation_data=valid_data_gen\n",
    "                                                  , verbose=0\n",
    "                                                  , callbacks=[checkpointer, earlystopper])\n",
    "plot_loss(stacked_lstm_history, 'Stacked LSTM - Train & Validation Loss')"
   ]
  },
  {
   "cell_type": "code",
   "execution_count": null,
   "metadata": {},
   "outputs": [],
   "source": []
  },
  {
   "cell_type": "code",
   "execution_count": null,
   "metadata": {},
   "outputs": [],
   "source": []
  },
  {
   "cell_type": "code",
   "execution_count": null,
   "metadata": {},
   "outputs": [],
   "source": []
  }
 ],
 "metadata": {
  "kernelspec": {
   "display_name": "Python 3",
   "language": "python",
   "name": "python3"
  },
  "language_info": {
   "codemirror_mode": {
    "name": "ipython",
    "version": 3
   },
   "file_extension": ".py",
   "mimetype": "text/x-python",
   "name": "python",
   "nbconvert_exporter": "python",
   "pygments_lexer": "ipython3",
   "version": "3.6.8"
  },
  "varInspector": {
   "cols": {
    "lenName": 16,
    "lenType": 16,
    "lenVar": 40
   },
   "kernels_config": {
    "python": {
     "delete_cmd_postfix": "",
     "delete_cmd_prefix": "del ",
     "library": "var_list.py",
     "varRefreshCmd": "print(var_dic_list())"
    },
    "r": {
     "delete_cmd_postfix": ") ",
     "delete_cmd_prefix": "rm(",
     "library": "var_list.r",
     "varRefreshCmd": "cat(var_dic_list()) "
    }
   },
   "types_to_exclude": [
    "module",
    "function",
    "builtin_function_or_method",
    "instance",
    "_Feature"
   ],
   "window_display": false
  }
 },
 "nbformat": 4,
 "nbformat_minor": 2
}
