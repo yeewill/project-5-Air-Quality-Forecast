{
 "cells": [
  {
   "cell_type": "code",
   "execution_count": 1,
   "metadata": {},
   "outputs": [],
   "source": [
    "import pickle\n",
    "import pandas as pd\n",
    "import requests\n",
    "import time\n",
    "import json\n",
    "from glob import glob\n",
    "\n",
    "import seaborn as sns"
   ]
  },
  {
   "cell_type": "code",
   "execution_count": null,
   "metadata": {},
   "outputs": [],
   "source": []
  },
  {
   "cell_type": "code",
   "execution_count": 2,
   "metadata": {},
   "outputs": [],
   "source": [
    "dskey = pickle.load(open(\"darkskyapi.p\",'rb'))\n",
    "open(\"darkskyapi.p\",'rb').close\n",
    "\n",
    "date_vars = ['Date']\n",
    "air_df = []\n",
    "for file in glob('sfOzoneByYear/*.csv'):\n",
    "    air_df.append(pd.read_csv(file, parse_dates=date_vars, date_parser=pd.to_datetime))\n",
    "\n",
    "\n",
    "air_df = pd.concat(air_df)\n",
    "air_df.shape"
   ]
  },
  {
   "cell_type": "code",
   "execution_count": 3,
   "metadata": {},
   "outputs": [],
   "source": [
    "long = air_df.iloc[3666,-1]\n",
    "\n",
    "lat =air_df.iloc[3666,-2]\n",
    "\n",
    "day = air_df.iloc[3666,0]\n",
    "\n",
    "\n",
    "day = int(time.mktime(day.timetuple()))\n",
    "url ='https://api.darksky.net/forecast/'+dskey+'/'+str(lat)+','+str(long)+','+str(day)\n",
    "weather= requests.get(url)\n",
    "weather.json()['daily']['data'][0]"
   ]
  },
  {
   "cell_type": "code",
   "execution_count": 4,
   "metadata": {},
   "outputs": [],
   "source": [
    "day_length =[]\n",
    "temp_high =[]\n",
    "temp_low =[]\n",
    "dew_point =[]\n",
    "humidity =[]\n",
    "pressure =[]\n",
    "wind_speed =[]\n",
    "wind_bearing =[]\n",
    "cloud_cover =[]\n",
    "uv_index =[]\n",
    "\n",
    "for i in range(air_df.shape[0]):\n",
    "    try:\n",
    "        long = air_df.iloc[i,-1]\n",
    "        lat =air_df.iloc[i,-2]\n",
    "        day = air_df.iloc[i,0]\n",
    "        day = pd.to_datetime(day , format ='%m/%d/%Y')\n",
    "        day = int(time.mktime(day.timetuple()))\n",
    "        url ='https://api.darksky.net/forecast/'+dskey+'/'+str(lat)+','+str(long)+','+str(day)\n",
    "        weather= requests.get(url)\n",
    "        day_length.append(weather.json()['daily']['data'][0]['sunsetTime'] - weather.json()['daily']['data'][0]['sunriseTime'])\n",
    "        try:\n",
    "            temp_high.append(weather.json()['daily']['data'][0]['temperatureHigh'])\n",
    "        except:\n",
    "            temp_high.append(weather.json()['daily']['data'][0]['temperatureMax'])\n",
    "        try:\n",
    "            temp_low.append(weather.json()['daily']['data'][0]['temperatureLow'])\n",
    "        except:\n",
    "            temp_low.append(weather.json()['daily']['data'][0]['temperatureMin'])\n",
    "        dew_point.append(weather.json()['daily']['data'][0]['dewPoint'])\n",
    "        humidity.append(weather.json()['daily']['data'][0]['humidity'])\n",
    "        pressure.append(weather.json()['daily']['data'][0]['pressure'])\n",
    "        wind_speed.append(weather.json()['daily']['data'][0]['windSpeed'])\n",
    "        wind_bearing.append(weather.json()['daily']['data'][0]['windBearing'])\n",
    "        cloud_cover.append(weather.json()['daily']['data'][0]['cloudCover'])\n",
    "        uv_index.append(weather.json()['daily']['data'][0]['uvIndex'])\n",
    "    except:\n",
    "        print('broken at: ' +str(i))\n",
    "\n",
    "    "
   ]
  },
  {
   "cell_type": "code",
   "execution_count": 5,
   "metadata": {},
   "outputs": [],
   "source": [
    "air_df['day_length'] = day_length\n",
    "air_df['temp_high'] = temp_high\n",
    "air_df['temp_low'] = temp_low\n",
    "air_df['dew_point'] = dew_point\n",
    "air_df['humidity'] = humidity\n",
    "air_df['pressure'] = pressure\n",
    "air_df['wind_speed'] = wind_speed\n",
    "air_df['wind_bearing'] = wind_bearing\n",
    "air_df['cloud_cover'] = cloud_cover\n",
    "air_df['uv_index'] = uv_index"
   ]
  },
  {
   "cell_type": "code",
   "execution_count": 6,
   "metadata": {},
   "outputs": [],
   "source": [
    "pickle.dump(air_df, open('air_df_1.p','wb'))"
   ]
  },
  {
   "cell_type": "code",
   "execution_count": 7,
   "metadata": {},
   "outputs": [],
   "source": [
    "air_df = pickle.load(open(\"air_df_1.p\",'rb'))\n",
    "open('air_df_1.p','rb').close"
   ]
  },
  {
   "cell_type": "code",
   "execution_count": 8,
   "metadata": {},
   "outputs": [],
   "source": [
    "df = air_df\n",
    "\n",
    "df.columns\n",
    "\n",
    "df.drop(columns=['Source','Site ID','POC','UNITS', 'DAILY_AQI_VALUE',\n",
    "       'Site Name', 'DAILY_OBS_COUNT', 'PERCENT_COMPLETE',\n",
    "       'AQS_PARAMETER_CODE', 'AQS_PARAMETER_DESC', 'CBSA_CODE', 'CBSA_NAME',\n",
    "       'STATE_CODE', 'STATE', 'COUNTY_CODE', 'COUNTY', 'SITE_LATITUDE',\n",
    "       'SITE_LONGITUDE'], inplace=True)\n",
    "df.set_index('Date', inplace=True)\n",
    "\n",
    "pickle.dump(df,open('ts_with_weather_sf.p', 'wb'))\n",
    "\n",
    "df = pickle.load(open('ts_with_weather_sf.p', 'rb'))"
   ]
  },
  {
   "cell_type": "code",
   "execution_count": 42,
   "metadata": {},
   "outputs": [
    {
     "data": {
      "text/plain": [
       "504"
      ]
     },
     "execution_count": 42,
     "metadata": {},
     "output_type": "execute_result"
    }
   ],
   "source": []
  },
  {
   "cell_type": "code",
   "execution_count": null,
   "metadata": {},
   "outputs": [],
   "source": []
  }
 ],
 "metadata": {
  "kernelspec": {
   "display_name": "Python 3",
   "language": "python",
   "name": "python3"
  },
  "language_info": {
   "codemirror_mode": {
    "name": "ipython",
    "version": 3
   },
   "file_extension": ".py",
   "mimetype": "text/x-python",
   "name": "python",
   "nbconvert_exporter": "python",
   "pygments_lexer": "ipython3",
   "version": "3.6.7"
  },
  "varInspector": {
   "cols": {
    "lenName": 16,
    "lenType": 16,
    "lenVar": 40
   },
   "kernels_config": {
    "python": {
     "delete_cmd_postfix": "",
     "delete_cmd_prefix": "del ",
     "library": "var_list.py",
     "varRefreshCmd": "print(var_dic_list())"
    },
    "r": {
     "delete_cmd_postfix": ") ",
     "delete_cmd_prefix": "rm(",
     "library": "var_list.r",
     "varRefreshCmd": "cat(var_dic_list()) "
    }
   },
   "types_to_exclude": [
    "module",
    "function",
    "builtin_function_or_method",
    "instance",
    "_Feature"
   ],
   "window_display": false
  }
 },
 "nbformat": 4,
 "nbformat_minor": 2
}
