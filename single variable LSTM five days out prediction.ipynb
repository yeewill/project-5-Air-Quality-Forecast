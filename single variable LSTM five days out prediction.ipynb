{
 "cells": [
  {
   "cell_type": "code",
   "execution_count": 1,
   "metadata": {},
   "outputs": [],
   "source": [
    "import pickle\n",
    "import pandas as pd\n",
    "import seaborn as sns"
   ]
  },
  {
   "cell_type": "code",
   "execution_count": 2,
   "metadata": {},
   "outputs": [
    {
     "data": {
      "text/plain": [
       "<function BufferedReader.close>"
      ]
     },
     "execution_count": 2,
     "metadata": {},
     "output_type": "execute_result"
    }
   ],
   "source": [
    "air_df = pickle.load(open(\"air_df_1.p\",'rb'))\n",
    "open('air_df_1.p','rb').close"
   ]
  },
  {
   "cell_type": "code",
   "execution_count": 7,
   "metadata": {},
   "outputs": [],
   "source": [
    "air_df.sort_values(by='Date',inplace=True)\n",
    "df =air_df[['Date','Daily Max 8-hour Ozone Concentration']]\n",
    "df.set_index('Date',inplace=True)"
   ]
  },
  {
   "cell_type": "code",
   "execution_count": 3,
   "metadata": {},
   "outputs": [],
   "source": [
    "import plaidml.keras\n",
    "plaidml.keras.install_backend()\n",
    "\n",
    "from pathlib import Path\n",
    "import pandas as pd\n",
    "import numpy as np\n",
    "import pandas_profiling\n",
    "%matplotlib inline\n",
    "import matplotlib.pyplot as plt\n",
    "import warnings\n",
    "warnings.simplefilter(action = 'ignore', category = FutureWarning)\n",
    "\n",
    "from sklearn.preprocessing import MinMaxScaler\n",
    "from keras.preprocessing.sequence import TimeseriesGenerator\n",
    "from keras.models import Sequential\n",
    "from keras.layers import Dense, LSTM, SimpleRNN\n",
    "from keras.optimizers import RMSprop\n",
    "from keras.callbacks import ModelCheckpoint, EarlyStopping\n",
    "from keras.models import model_from_json"
   ]
  },
  {
   "cell_type": "code",
   "execution_count": 4,
   "metadata": {},
   "outputs": [],
   "source": [
    "def plot_loss(history, title):\n",
    "    plt.figure(figsize=(10,6))\n",
    "    plt.plot(history.history['loss'], label='Train')\n",
    "    plt.plot(history.history['val_loss'], label='Validation')\n",
    "    plt.title(title)\n",
    "    plt.xlabel('Nb Epochs')\n",
    "    plt.ylabel('Loss')\n",
    "    plt.legend()\n",
    "    plt.show()\n",
    "    \n",
    "    val_loss = history.history['val_loss']\n",
    "    min_idx = np.argmin(val_loss)\n",
    "    min_val_loss = val_loss[min_idx]\n",
    "    print('Minimum validation loss of {} reached at epoch {}'.format(min_val_loss, min_idx))"
   ]
  },
  {
   "cell_type": "code",
   "execution_count": 5,
   "metadata": {},
   "outputs": [],
   "source": [
    "def series_to_supervised(data, n_in=1, n_out=1, dropnan=True):\n",
    "    n_vars = 1 if type(data) is list else data.shape[1]\n",
    "    df = pd.DataFrame(data)\n",
    "    cols, names = list(), list()\n",
    "    # input sequence (t-n, ... t-1)\n",
    "    for i in range(n_in, 0, -1):\n",
    "        cols.append(df.shift(i))\n",
    "        names += [('var%d(t-%d)' % (j+1, i)) for j in range(n_vars)]\n",
    "    # forecast sequence (t, t+1, ... t+n)\n",
    "    for i in range(0, n_out):\n",
    "        cols.append(df.shift(-i))\n",
    "        if i == 0:\n",
    "            names += [('var%d(t)' % (j+1)) for j in range(n_vars)]\n",
    "        else:\n",
    "            names += [('var%d(t+%d)' % (j+1, i)) for j in range(n_vars)]\n",
    "    # put it all together\n",
    "    agg = pd.concat(cols, axis=1)\n",
    "    agg.columns = names\n",
    "    # drop rows with NaN values\n",
    "    if dropnan:\n",
    "        agg.dropna(inplace=True)\n",
    "    return agg"
   ]
  },
  {
   "cell_type": "code",
   "execution_count": 17,
   "metadata": {},
   "outputs": [
    {
     "data": {
      "text/html": [
       "<div>\n",
       "<style scoped>\n",
       "    .dataframe tbody tr th:only-of-type {\n",
       "        vertical-align: middle;\n",
       "    }\n",
       "\n",
       "    .dataframe tbody tr th {\n",
       "        vertical-align: top;\n",
       "    }\n",
       "\n",
       "    .dataframe thead th {\n",
       "        text-align: right;\n",
       "    }\n",
       "</style>\n",
       "<table border=\"1\" class=\"dataframe\">\n",
       "  <thead>\n",
       "    <tr style=\"text-align: right;\">\n",
       "      <th></th>\n",
       "      <th>var1(t-7)</th>\n",
       "      <th>var1(t-6)</th>\n",
       "      <th>var1(t-5)</th>\n",
       "      <th>var1(t-4)</th>\n",
       "      <th>var1(t-3)</th>\n",
       "      <th>var1(t-2)</th>\n",
       "      <th>var1(t-1)</th>\n",
       "      <th>var1(t)</th>\n",
       "      <th>var1(t+1)</th>\n",
       "      <th>var1(t+2)</th>\n",
       "      <th>var1(t+3)</th>\n",
       "      <th>var1(t+4)</th>\n",
       "      <th>var1(t+5)</th>\n",
       "    </tr>\n",
       "  </thead>\n",
       "  <tbody>\n",
       "    <tr>\n",
       "      <th>7</th>\n",
       "      <td>0.246377</td>\n",
       "      <td>0.347826</td>\n",
       "      <td>0.434783</td>\n",
       "      <td>0.521739</td>\n",
       "      <td>0.478261</td>\n",
       "      <td>0.391304</td>\n",
       "      <td>0.405797</td>\n",
       "      <td>0.260870</td>\n",
       "      <td>0.043478</td>\n",
       "      <td>0.014493</td>\n",
       "      <td>0.115942</td>\n",
       "      <td>0.202899</td>\n",
       "      <td>0.217391</td>\n",
       "    </tr>\n",
       "    <tr>\n",
       "      <th>8</th>\n",
       "      <td>0.347826</td>\n",
       "      <td>0.434783</td>\n",
       "      <td>0.521739</td>\n",
       "      <td>0.478261</td>\n",
       "      <td>0.391304</td>\n",
       "      <td>0.405797</td>\n",
       "      <td>0.260870</td>\n",
       "      <td>0.043478</td>\n",
       "      <td>0.014493</td>\n",
       "      <td>0.115942</td>\n",
       "      <td>0.202899</td>\n",
       "      <td>0.217391</td>\n",
       "      <td>0.086957</td>\n",
       "    </tr>\n",
       "    <tr>\n",
       "      <th>9</th>\n",
       "      <td>0.434783</td>\n",
       "      <td>0.521739</td>\n",
       "      <td>0.478261</td>\n",
       "      <td>0.391304</td>\n",
       "      <td>0.405797</td>\n",
       "      <td>0.260870</td>\n",
       "      <td>0.043478</td>\n",
       "      <td>0.014493</td>\n",
       "      <td>0.115942</td>\n",
       "      <td>0.202899</td>\n",
       "      <td>0.217391</td>\n",
       "      <td>0.086957</td>\n",
       "      <td>0.014493</td>\n",
       "    </tr>\n",
       "    <tr>\n",
       "      <th>10</th>\n",
       "      <td>0.521739</td>\n",
       "      <td>0.478261</td>\n",
       "      <td>0.391304</td>\n",
       "      <td>0.405797</td>\n",
       "      <td>0.260870</td>\n",
       "      <td>0.043478</td>\n",
       "      <td>0.014493</td>\n",
       "      <td>0.115942</td>\n",
       "      <td>0.202899</td>\n",
       "      <td>0.217391</td>\n",
       "      <td>0.086957</td>\n",
       "      <td>0.014493</td>\n",
       "      <td>0.246377</td>\n",
       "    </tr>\n",
       "    <tr>\n",
       "      <th>11</th>\n",
       "      <td>0.478261</td>\n",
       "      <td>0.391304</td>\n",
       "      <td>0.405797</td>\n",
       "      <td>0.260870</td>\n",
       "      <td>0.043478</td>\n",
       "      <td>0.014493</td>\n",
       "      <td>0.115942</td>\n",
       "      <td>0.202899</td>\n",
       "      <td>0.217391</td>\n",
       "      <td>0.086957</td>\n",
       "      <td>0.014493</td>\n",
       "      <td>0.246377</td>\n",
       "      <td>0.188406</td>\n",
       "    </tr>\n",
       "  </tbody>\n",
       "</table>\n",
       "</div>"
      ],
      "text/plain": [
       "    var1(t-7)  var1(t-6)  var1(t-5)  var1(t-4)  var1(t-3)  var1(t-2)  \\\n",
       "7    0.246377   0.347826   0.434783   0.521739   0.478261   0.391304   \n",
       "8    0.347826   0.434783   0.521739   0.478261   0.391304   0.405797   \n",
       "9    0.434783   0.521739   0.478261   0.391304   0.405797   0.260870   \n",
       "10   0.521739   0.478261   0.391304   0.405797   0.260870   0.043478   \n",
       "11   0.478261   0.391304   0.405797   0.260870   0.043478   0.014493   \n",
       "\n",
       "    var1(t-1)   var1(t)  var1(t+1)  var1(t+2)  var1(t+3)  var1(t+4)  var1(t+5)  \n",
       "7    0.405797  0.260870   0.043478   0.014493   0.115942   0.202899   0.217391  \n",
       "8    0.260870  0.043478   0.014493   0.115942   0.202899   0.217391   0.086957  \n",
       "9    0.043478  0.014493   0.115942   0.202899   0.217391   0.086957   0.014493  \n",
       "10   0.014493  0.115942   0.202899   0.217391   0.086957   0.014493   0.246377  \n",
       "11   0.115942  0.202899   0.217391   0.086957   0.014493   0.246377   0.188406  "
      ]
     },
     "execution_count": 17,
     "metadata": {},
     "output_type": "execute_result"
    }
   ],
   "source": [
    "# load dataset\n",
    "values = df.values\n",
    "# integer encode direction\n",
    "# ensure all data is float\n",
    "values = values.astype('float32')\n",
    "# normalize features\n",
    "scaler = MinMaxScaler()\n",
    "scaled = scaler.fit_transform(values)\n",
    "# frame as supervised learning\n",
    "reframed = series_to_supervised(scaled, 7, 6)\n",
    "# drop columns we don't want to predict\n",
    "reframed.head()"
   ]
  },
  {
   "cell_type": "code",
   "execution_count": 18,
   "metadata": {},
   "outputs": [
    {
     "name": "stdout",
     "output_type": "stream",
     "text": [
      "(3100, 1, 7) (3100,) (500, 1, 7) (500,) (360, 1, 7) (360,)\n"
     ]
    }
   ],
   "source": [
    "y = reframed.iloc[:,-1].values\n",
    "X = reframed.drop(['var1(t)','var1(t+1)','var1(t+2)','var1(t+3)','var1(t+4)','var1(t+5)'], axis =1).values\n",
    "# split into train and test sets\n",
    "\n",
    "n_train_days = 3100\n",
    "n_test_days=360\n",
    "train_X = X[:n_train_days,:]\n",
    "train_y = y[:n_train_days]\n",
    "\n",
    "val_X= X[n_train_days:-n_test_days,]\n",
    "val_y= y[n_train_days:-n_test_days]\n",
    "\n",
    "test_X = X[-n_test_days:,:]\n",
    "test_y = y[-n_test_days:]\n",
    "\n",
    "\n",
    "\n",
    "# reshape input to be 3D [samples, timesteps, features]\n",
    "train_X = train_X.reshape((train_X.shape[0], 1, train_X.shape[1]))\n",
    "val_X = val_X.reshape((val_X.shape[0], 1, val_X.shape[1]))\n",
    "test_X = test_X.reshape((test_X.shape[0], 1, test_X.shape[1]))\n",
    "print(train_X.shape, train_y.shape,val_X.shape, val_y.shape ,test_X.shape, test_y.shape)"
   ]
  },
  {
   "cell_type": "code",
   "execution_count": 21,
   "metadata": {},
   "outputs": [],
   "source": [
    "# simple_rnn = Sequential()\n",
    "# simple_rnn.add(SimpleRNN(5, input_shape=(train_X.shape[1], train_X.shape[2])))\n",
    "# simple_rnn.add(Dense(1))\n",
    "# simple_rnn.compile(loss='mae', optimizer=RMSprop())\n",
    "\n",
    "# #checkpointer = ModelCheckpoint(filepath='simple_rnn_weights.hdf5'\n",
    "# #                               , verbose=0\n",
    "# #                               , save_best_only=True)\n",
    "# earlystopper = EarlyStopping(monitor='val_loss'\n",
    "#                              , patience=30\n",
    "#                              , verbose=0)\n",
    "# with open(\"simple_rnn.json\", \"w\") as m:\n",
    "#      m.write(simple_rnn.to_json())\n",
    "\n",
    "# simple_rnn_history = simple_rnn.fit(train_X,train_y\n",
    "#                                               , epochs=200\n",
    "#                                               , validation_data=(val_X, val_y)\n",
    "#                                               , verbose=2\n",
    "#                                               , callbacks= [earlystopper]\n",
    "#                                              )\n",
    "# plot_loss(simple_rnn_history, 'SimpleRNN - Train & Validation Loss')"
   ]
  },
  {
   "cell_type": "code",
   "execution_count": 22,
   "metadata": {},
   "outputs": [],
   "source": [
    "# simple_lstm = Sequential()\n",
    "# simple_lstm.add(LSTM(5, input_shape=(train_X.shape[1], train_X.shape[2])))\n",
    "# simple_lstm.add(Dense(1))\n",
    "# simple_lstm.compile(loss='mae', optimizer=RMSprop())\n",
    "\n",
    "# #checkpointer = ModelCheckpoint(filepath='simple_lstm_weights.hdf5'\n",
    "# #                               , verbose=0\n",
    "# #                               , save_best_only=True)\n",
    "# earlystopper = EarlyStopping(monitor='val_loss'\n",
    "#                              , patience=30\n",
    "#                              , verbose=0)\n",
    "# with open(\"simple_lstm.json\", \"w\") as m:\n",
    "#     m.write(simple_lstm.to_json())\n",
    "\n",
    "# simple_lstm_history = simple_lstm.fit(train_X,train_y\n",
    "#                                               , epochs=200\n",
    "#                                               , validation_data=(val_X, val_y)\n",
    "#                                               , verbose=2\n",
    "#                                               , callbacks= [earlystopper]\n",
    "#                                              )\n",
    "# plot_loss(simple_lstm_history, 'Simple LSTM - Train & Validation Loss')"
   ]
  },
  {
   "cell_type": "code",
   "execution_count": 23,
   "metadata": {},
   "outputs": [
    {
     "name": "stdout",
     "output_type": "stream",
     "text": [
      "Train on 3100 samples, validate on 500 samples\n",
      "Epoch 1/200\n",
      " - 2s - loss: 0.2230 - val_loss: 0.0901\n",
      "Epoch 2/200\n",
      " - 1s - loss: 0.0903 - val_loss: 0.0886\n",
      "Epoch 3/200\n",
      " - 1s - loss: 0.0880 - val_loss: 0.0876\n",
      "Epoch 4/200\n",
      " - 1s - loss: 0.0871 - val_loss: 0.0913\n",
      "Epoch 5/200\n",
      " - 1s - loss: 0.0867 - val_loss: 0.0855\n",
      "Epoch 6/200\n",
      " - 1s - loss: 0.0865 - val_loss: 0.0871\n",
      "Epoch 7/200\n",
      " - 1s - loss: 0.0864 - val_loss: 0.0859\n",
      "Epoch 8/200\n",
      " - 1s - loss: 0.0866 - val_loss: 0.0853\n",
      "Epoch 9/200\n",
      " - 1s - loss: 0.0866 - val_loss: 0.0853\n",
      "Epoch 10/200\n",
      " - 1s - loss: 0.0866 - val_loss: 0.0857\n",
      "Epoch 11/200\n",
      " - 1s - loss: 0.0863 - val_loss: 0.0850\n",
      "Epoch 12/200\n",
      " - 1s - loss: 0.0866 - val_loss: 0.0852\n",
      "Epoch 13/200\n",
      " - 1s - loss: 0.0865 - val_loss: 0.0850\n",
      "Epoch 14/200\n",
      " - 1s - loss: 0.0865 - val_loss: 0.0863\n",
      "Epoch 15/200\n",
      " - 1s - loss: 0.0865 - val_loss: 0.0857\n",
      "Epoch 16/200\n",
      " - 1s - loss: 0.0864 - val_loss: 0.0852\n",
      "Epoch 17/200\n",
      " - 1s - loss: 0.0864 - val_loss: 0.0849\n",
      "Epoch 18/200\n",
      " - 1s - loss: 0.0864 - val_loss: 0.0848\n",
      "Epoch 19/200\n",
      " - 1s - loss: 0.0863 - val_loss: 0.0849\n",
      "Epoch 20/200\n",
      " - 1s - loss: 0.0864 - val_loss: 0.0851\n",
      "Epoch 21/200\n",
      " - 1s - loss: 0.0863 - val_loss: 0.0867\n",
      "Epoch 22/200\n",
      " - 1s - loss: 0.0863 - val_loss: 0.0848\n",
      "Epoch 23/200\n",
      " - 1s - loss: 0.0864 - val_loss: 0.0850\n",
      "Epoch 24/200\n",
      " - 1s - loss: 0.0866 - val_loss: 0.0852\n",
      "Epoch 25/200\n",
      " - 1s - loss: 0.0863 - val_loss: 0.0858\n",
      "Epoch 26/200\n",
      " - 1s - loss: 0.0863 - val_loss: 0.0880\n",
      "Epoch 27/200\n",
      " - 1s - loss: 0.0863 - val_loss: 0.0855\n",
      "Epoch 28/200\n",
      " - 1s - loss: 0.0862 - val_loss: 0.0852\n",
      "Epoch 29/200\n",
      " - 1s - loss: 0.0864 - val_loss: 0.0851\n",
      "Epoch 30/200\n",
      " - 1s - loss: 0.0865 - val_loss: 0.0853\n",
      "Epoch 31/200\n",
      " - 1s - loss: 0.0863 - val_loss: 0.0852\n",
      "Epoch 32/200\n",
      " - 1s - loss: 0.0863 - val_loss: 0.0859\n",
      "Epoch 33/200\n",
      " - 1s - loss: 0.0863 - val_loss: 0.0867\n",
      "Epoch 34/200\n",
      " - 1s - loss: 0.0864 - val_loss: 0.0846\n",
      "Epoch 35/200\n",
      " - 1s - loss: 0.0863 - val_loss: 0.0851\n",
      "Epoch 36/200\n",
      " - 1s - loss: 0.0865 - val_loss: 0.0847\n",
      "Epoch 37/200\n",
      " - 1s - loss: 0.0864 - val_loss: 0.0848\n",
      "Epoch 38/200\n",
      " - 1s - loss: 0.0862 - val_loss: 0.0846\n",
      "Epoch 39/200\n",
      " - 1s - loss: 0.0864 - val_loss: 0.0850\n",
      "Epoch 40/200\n",
      " - 1s - loss: 0.0863 - val_loss: 0.0860\n",
      "Epoch 41/200\n",
      " - 1s - loss: 0.0862 - val_loss: 0.0847\n",
      "Epoch 42/200\n",
      " - 1s - loss: 0.0863 - val_loss: 0.0876\n",
      "Epoch 43/200\n",
      " - 1s - loss: 0.0865 - val_loss: 0.0853\n",
      "Epoch 44/200\n",
      " - 1s - loss: 0.0864 - val_loss: 0.0851\n",
      "Epoch 45/200\n",
      " - 1s - loss: 0.0863 - val_loss: 0.0847\n",
      "Epoch 46/200\n",
      " - 1s - loss: 0.0863 - val_loss: 0.0852\n",
      "Epoch 47/200\n",
      " - 1s - loss: 0.0863 - val_loss: 0.0877\n",
      "Epoch 48/200\n",
      " - 1s - loss: 0.0864 - val_loss: 0.0847\n",
      "Epoch 49/200\n",
      " - 1s - loss: 0.0861 - val_loss: 0.0850\n",
      "Epoch 50/200\n",
      " - 1s - loss: 0.0861 - val_loss: 0.0846\n",
      "Epoch 51/200\n",
      " - 1s - loss: 0.0863 - val_loss: 0.0849\n",
      "Epoch 52/200\n",
      " - 1s - loss: 0.0865 - val_loss: 0.0863\n",
      "Epoch 53/200\n",
      " - 1s - loss: 0.0864 - val_loss: 0.0855\n",
      "Epoch 54/200\n",
      " - 1s - loss: 0.0865 - val_loss: 0.0851\n",
      "Epoch 55/200\n",
      " - 1s - loss: 0.0864 - val_loss: 0.0853\n",
      "Epoch 56/200\n",
      " - 1s - loss: 0.0864 - val_loss: 0.0866\n",
      "Epoch 57/200\n",
      " - 1s - loss: 0.0862 - val_loss: 0.0851\n",
      "Epoch 58/200\n",
      " - 1s - loss: 0.0863 - val_loss: 0.0846\n",
      "Epoch 59/200\n",
      " - 1s - loss: 0.0862 - val_loss: 0.0847\n",
      "Epoch 60/200\n",
      " - 1s - loss: 0.0861 - val_loss: 0.0883\n",
      "Epoch 61/200\n",
      " - 1s - loss: 0.0864 - val_loss: 0.0855\n",
      "Epoch 62/200\n",
      " - 1s - loss: 0.0863 - val_loss: 0.0848\n",
      "Epoch 63/200\n",
      " - 1s - loss: 0.0862 - val_loss: 0.0848\n",
      "Epoch 64/200\n",
      " - 1s - loss: 0.0862 - val_loss: 0.0859\n",
      "Epoch 65/200\n",
      " - 1s - loss: 0.0863 - val_loss: 0.0846\n",
      "Epoch 66/200\n",
      " - 1s - loss: 0.0860 - val_loss: 0.0853\n",
      "Epoch 67/200\n",
      " - 1s - loss: 0.0863 - val_loss: 0.0859\n",
      "Epoch 68/200\n",
      " - 1s - loss: 0.0863 - val_loss: 0.0847\n"
     ]
    },
    {
     "data": {
      "image/png": "[encoded data removed]",
      "text/plain": [
       "<Figure size 720x432 with 1 Axes>"
      ]
     },
     "metadata": {
      "needs_background": "light"
     },
     "output_type": "display_data"
    },
    {
     "name": "stdout",
     "output_type": "stream",
     "text": [
      "Minimum validation loss of 0.08459750354290009 reached at epoch 37\n"
     ]
    }
   ],
   "source": [
    "stacked_lstm = Sequential()\n",
    "stacked_lstm.add(LSTM(16, input_shape=(train_X.shape[1], train_X.shape[2]), return_sequences=True))\n",
    "stacked_lstm.add(LSTM(8, return_sequences=True))\n",
    "stacked_lstm.add(LSTM(4))\n",
    "stacked_lstm.add(Dense(1))\n",
    "stacked_lstm.compile(loss='mae', optimizer=RMSprop())\n",
    "\n",
    "#checkpointer = ModelCheckpoint(filepath='stacked_lstm_weights.hdf5'\n",
    "#                               , verbose=0\n",
    "#                               , save_best_only=True)\n",
    "earlystopper = EarlyStopping(monitor='val_loss'\n",
    "                             , patience=30\n",
    "                             , verbose=0)\n",
    "with open(\"stacked_lstm.json\", \"w\") as m:\n",
    "    m.write(stacked_lstm.to_json())\n",
    "\n",
    "stacked_lstm_history = stacked_lstm.fit(train_X,train_y\n",
    "                                              , epochs=200\n",
    "                                              , validation_data=(val_X, val_y)\n",
    "                                              , verbose=2\n",
    "                                              , callbacks= [earlystopper]\n",
    "                                             )\n",
    "plot_loss(stacked_lstm_history, 'Stacked LSTM - Train & Validation Loss')"
   ]
  },
  {
   "cell_type": "code",
   "execution_count": 25,
   "metadata": {},
   "outputs": [
    {
     "data": {
      "text/plain": [
       "<matplotlib.axes._subplots.AxesSubplot at 0x120ab5fd0>"
      ]
     },
     "execution_count": 25,
     "metadata": {},
     "output_type": "execute_result"
    },
    {
     "data": {
      "image/png": "[encoded data removed]",
      "text/plain": [
       "<Figure size 432x288 with 1 Axes>"
      ]
     },
     "metadata": {
      "needs_background": "light"
     },
     "output_type": "display_data"
    }
   ],
   "source": [
    "preds = []\n",
    "preds_array = stacked_lstm.predict(test_X)\n",
    "for i in range(len(preds_array)):\n",
    "    preds.append(preds_array[i][0])\n",
    "\n",
    "train_data = pd.DataFrame({\n",
    "    'Ozone Concentration':train_y,\n",
    "    'Date':df.index[7:3107]\n",
    "})\n",
    "train_data['Observation Type'] = 'Actual'\n",
    "\n",
    "val_data = pd.DataFrame({\n",
    "    'Ozone Concentration':val_y,\n",
    "    'Date':df.index[3107:-365]\n",
    "})\n",
    "val_data['Observation Type'] = 'Actual'\n",
    "\n",
    "test_data = pd.DataFrame({\n",
    "    'Ozone Concentration':preds,\n",
    "    'Date':df.index[-360:]\n",
    "})\n",
    "test_data['Observation Type'] = 'Predicted'\n",
    "\n",
    "plot_me = pd.concat([train_data,val_data,test_data])\n",
    "\n",
    "sns.lineplot(x=plot_me.Date,y=plot_me['Ozone Concentration'],hue=plot_me['Observation Type'])"
   ]
  },
  {
   "cell_type": "code",
   "execution_count": 26,
   "metadata": {},
   "outputs": [
    {
     "data": {
      "text/plain": [
       "<matplotlib.axes._subplots.AxesSubplot at 0x121186940>"
      ]
     },
     "execution_count": 26,
     "metadata": {},
     "output_type": "execute_result"
    },
    {
     "data": {
      "image/png": "[encoded data removed]",
      "text/plain": [
       "<Figure size 432x288 with 1 Axes>"
      ]
     },
     "metadata": {
      "needs_background": "light"
     },
     "output_type": "display_data"
    }
   ],
   "source": [
    "sns.lineplot(x=df.index,y=df['Daily Max 8-hour Ozone Concentration'])"
   ]
  },
  {
   "cell_type": "code",
   "execution_count": null,
   "metadata": {},
   "outputs": [],
   "source": []
  },
  {
   "cell_type": "code",
   "execution_count": null,
   "metadata": {},
   "outputs": [],
   "source": []
  }
 ],
 "metadata": {
  "kernelspec": {
   "display_name": "Python 3",
   "language": "python",
   "name": "python3"
  },
  "language_info": {
   "codemirror_mode": {
    "name": "ipython",
    "version": 3
   },
   "file_extension": ".py",
   "mimetype": "text/x-python",
   "name": "python",
   "nbconvert_exporter": "python",
   "pygments_lexer": "ipython3",
   "version": "3.6.7"
  }
 },
 "nbformat": 4,
 "nbformat_minor": 2
}
